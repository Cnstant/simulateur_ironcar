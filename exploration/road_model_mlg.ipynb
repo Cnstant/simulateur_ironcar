{
 "cells": [
  {
   "cell_type": "code",
   "execution_count": 1,
   "metadata": {},
   "outputs": [
    {
     "name": "stdout",
     "output_type": "stream",
     "text": [
      "/usr/local/cuda-8.0/lib64:/usr/local/cuda-8.0/extras/CUPTI/lib64:/lib/nccl/cuda-8:/usr/lib64/openmpi/lib/:/usr/local/lib:/usr/lib:/usr/local/mpi/lib:/lib/:/usr/lib64/openmpi/lib/:/usr/local/lib:/usr/lib:/usr/local/mpi/lib:/lib/:/usr/lib64/openmpi/lib/:/usr/local/lib:/usr/lib:/usr/local/mpi/lib:/lib/:\r\n"
     ]
    }
   ],
   "source": [
    "!echo $LD_LIBRARY_PATH"
   ]
  },
  {
   "cell_type": "code",
   "execution_count": 2,
   "metadata": {},
   "outputs": [],
   "source": [
    "from tensorflow.python.client import device_lib"
   ]
  },
  {
   "cell_type": "code",
   "execution_count": 3,
   "metadata": {},
   "outputs": [
    {
     "name": "stdout",
     "output_type": "stream",
     "text": [
      "[name: \"/cpu:0\"\n",
      "device_type: \"CPU\"\n",
      "memory_limit: 268435456\n",
      "locality {\n",
      "}\n",
      "incarnation: 13735331216015276412\n",
      ", name: \"/gpu:0\"\n",
      "device_type: \"GPU\"\n",
      "memory_limit: 11324823962\n",
      "locality {\n",
      "  bus_id: 1\n",
      "}\n",
      "incarnation: 8530905181530823260\n",
      "physical_device_desc: \"device: 0, name: Tesla K80, pci bus id: 0000:00:1e.0\"\n",
      "]\n"
     ]
    }
   ],
   "source": [
    "print(device_lib.list_local_devices())"
   ]
  },
  {
   "cell_type": "code",
   "execution_count": 4,
   "metadata": {
    "scrolled": false
   },
   "outputs": [
    {
     "name": "stderr",
     "output_type": "stream",
     "text": [
      "/home/ubuntu/anaconda3/envs/ironcar/lib/python3.5/site-packages/h5py/__init__.py:36: FutureWarning: Conversion of the second argument of issubdtype from `float` to `np.floating` is deprecated. In future, it will be treated as `np.float64 == np.dtype(float).type`.\n",
      "  from ._conv import register_converters as _register_converters\n",
      "Using TensorFlow backend.\n",
      "  0%|          | 171/50000 [00:00<00:29, 1707.85it/s]"
     ]
    },
    {
     "name": "stdout",
     "output_type": "stream",
     "text": [
      "./datasets/dashed/\n"
     ]
    },
    {
     "name": "stderr",
     "output_type": "stream",
     "text": [
      "100%|██████████| 50000/50000 [00:26<00:00, 1882.68it/s]\n"
     ]
    },
    {
     "name": "stdout",
     "output_type": "stream",
     "text": [
      "train_X[0]:  [[[0.89411765 0.8666667  0.79607844]\n",
      "  [0.7372549  0.70980394 0.6392157 ]\n",
      "  [0.69411767 0.6666667  0.59607846]\n",
      "  ...\n",
      "  [0.9490196  0.9372549  0.87058824]\n",
      "  [0.972549   0.9607843  0.89411765]\n",
      "  [0.972549   0.9607843  0.89411765]]\n",
      "\n",
      " [[0.36078432 0.33333334 0.2627451 ]\n",
      "  [0.54901963 0.52156866 0.4509804 ]\n",
      "  [0.5372549  0.50980395 0.4392157 ]\n",
      "  ...\n",
      "  [0.95686275 0.94509804 0.8784314 ]\n",
      "  [0.9647059  0.9529412  0.8862745 ]\n",
      "  [0.9647059  0.9529412  0.8862745 ]]\n",
      "\n",
      " [[0.70980394 0.68235296 0.6117647 ]\n",
      "  [0.7058824  0.6784314  0.60784316]\n",
      "  [0.8117647  0.78431374 0.72156864]\n",
      "  ...\n",
      "  [0.9882353  0.9764706  0.9098039 ]\n",
      "  [0.95686275 0.94509804 0.8784314 ]\n",
      "  [0.95686275 0.94509804 0.8784314 ]]\n",
      "\n",
      " ...\n",
      "\n",
      " [[0.75686276 0.7137255  0.59607846]\n",
      "  [0.6313726  0.5882353  0.47058824]\n",
      "  [0.45490196 0.4117647  0.3019608 ]\n",
      "  ...\n",
      "  [0.5803922  0.5647059  0.5176471 ]\n",
      "  [0.5411765  0.5254902  0.47843137]\n",
      "  [0.54509807 0.5294118  0.48235294]]\n",
      "\n",
      " [[0.70980394 0.67058825 0.57254905]\n",
      "  [0.6784314  0.6392157  0.5411765 ]\n",
      "  [0.63529414 0.5921569  0.5058824 ]\n",
      "  ...\n",
      "  [0.7411765  0.7254902  0.6784314 ]\n",
      "  [0.84705883 0.83137256 0.78431374]\n",
      "  [0.827451   0.8117647  0.7647059 ]]\n",
      "\n",
      " [[0.6392157  0.59607846 0.5254902 ]\n",
      "  [0.60784316 0.5764706  0.5019608 ]\n",
      "  [0.5568628  0.52156866 0.45490196]\n",
      "  ...\n",
      "  [0.9137255  0.8980392  0.8509804 ]\n",
      "  [0.78431374 0.76862746 0.72156864]\n",
      "  [0.74509805 0.7294118  0.68235296]]]\n",
      "train_Y[0]:  [0 0 0 1 0]\n"
     ]
    }
   ],
   "source": [
    "import keras\n",
    "from keras import callbacks\n",
    "from keras.layers import Input, Convolution2D, MaxPooling2D, Activation\n",
    "from keras.layers import Dropout, Flatten, Dense, BatchNormalization\n",
    "from keras.models import Model\n",
    "from keras.optimizers import Adam\n",
    "\n",
    "import sys\n",
    "sys.path.insert(0, './road_simulator/src/')\n",
    "\n",
    "from models.utils import get_datasets\n",
    "\n",
    "\n",
    "paths = ['./datasets/dashed/']\n",
    "n_images = 50 * 1000  # number of images\n",
    "model_path = './models/my_autopilot_big.hdf5'\n",
    "\n",
    "# Get train, test and val sets\n",
    "train_X, train_Y, val_X, val_Y, test_X, test_Y = get_datasets(paths, n_images=n_images)\n",
    "\n",
    "print('train_X[0]: ', train_X[0])\n",
    "print('train_Y[0]: ', train_Y[0])\n"
   ]
  },
  {
   "cell_type": "code",
   "execution_count": 5,
   "metadata": {},
   "outputs": [
    {
     "name": "stderr",
     "output_type": "stream",
     "text": [
      "/home/ubuntu/anaconda3/envs/ironcar/lib/python3.5/site-packages/ipykernel_launcher.py:9: UserWarning: Update your `Conv2D` call to the Keras 2 API: `Conv2D(5, (3, 3), activation=\"relu\", padding=\"same\")`\n",
      "  if __name__ == '__main__':\n",
      "/home/ubuntu/anaconda3/envs/ironcar/lib/python3.5/site-packages/ipykernel_launcher.py:14: UserWarning: Update your `Conv2D` call to the Keras 2 API: `Conv2D(2, (3, 3), activation=\"relu\", padding=\"same\")`\n",
      "  \n",
      "/home/ubuntu/anaconda3/envs/ironcar/lib/python3.5/site-packages/ipykernel_launcher.py:19: UserWarning: Update your `Conv2D` call to the Keras 2 API: `Conv2D(2, (3, 3), activation=\"relu\", padding=\"same\")`\n",
      "/home/ubuntu/anaconda3/envs/ironcar/lib/python3.5/site-packages/ipykernel_launcher.py:24: UserWarning: Update your `Conv2D` call to the Keras 2 API: `Conv2D(4, (3, 3), activation=\"relu\", padding=\"same\")`\n",
      "/home/ubuntu/anaconda3/envs/ironcar/lib/python3.5/site-packages/ipykernel_launcher.py:38: UserWarning: Update your `Model` call to the Keras 2 API: `Model(outputs=[<tf.Tenso..., inputs=[<tf.Tenso...)`\n",
      "/home/ubuntu/anaconda3/envs/ironcar/lib/python3.5/site-packages/ipykernel_launcher.py:63: UserWarning: The `nb_epoch` argument in `fit` has been renamed `epochs`.\n"
     ]
    },
    {
     "name": "stdout",
     "output_type": "stream",
     "text": [
      "_________________________________________________________________\n",
      "Layer (type)                 Output Shape              Param #   \n",
      "=================================================================\n",
      "img_in (InputLayer)          (None, 70, 250, 3)        0         \n",
      "_________________________________________________________________\n",
      "conv2d_1 (Conv2D)            (None, 70, 250, 5)        140       \n",
      "_________________________________________________________________\n",
      "max_pooling2d_1 (MaxPooling2 (None, 35, 125, 5)        0         \n",
      "_________________________________________________________________\n",
      "dropout_1 (Dropout)          (None, 35, 125, 5)        0         \n",
      "_________________________________________________________________\n",
      "batch_normalization_1 (Batch (None, 35, 125, 5)        20        \n",
      "_________________________________________________________________\n",
      "conv2d_2 (Conv2D)            (None, 35, 125, 2)        92        \n",
      "_________________________________________________________________\n",
      "max_pooling2d_2 (MaxPooling2 (None, 17, 62, 2)         0         \n",
      "_________________________________________________________________\n",
      "dropout_2 (Dropout)          (None, 17, 62, 2)         0         \n",
      "_________________________________________________________________\n",
      "batch_normalization_2 (Batch (None, 17, 62, 2)         8         \n",
      "_________________________________________________________________\n",
      "conv2d_3 (Conv2D)            (None, 17, 62, 2)         38        \n",
      "_________________________________________________________________\n",
      "max_pooling2d_3 (MaxPooling2 (None, 8, 31, 2)          0         \n",
      "_________________________________________________________________\n",
      "dropout_3 (Dropout)          (None, 8, 31, 2)          0         \n",
      "_________________________________________________________________\n",
      "batch_normalization_3 (Batch (None, 8, 31, 2)          8         \n",
      "_________________________________________________________________\n",
      "conv2d_4 (Conv2D)            (None, 8, 31, 4)          76        \n",
      "_________________________________________________________________\n",
      "max_pooling2d_4 (MaxPooling2 (None, 4, 15, 4)          0         \n",
      "_________________________________________________________________\n",
      "dropout_4 (Dropout)          (None, 4, 15, 4)          0         \n",
      "_________________________________________________________________\n",
      "batch_normalization_4 (Batch (None, 4, 15, 4)          16        \n",
      "_________________________________________________________________\n",
      "flatten_1 (Flatten)          (None, 240)               0         \n",
      "_________________________________________________________________\n",
      "dense_1 (Dense)              (None, 20)                4820      \n",
      "_________________________________________________________________\n",
      "activation_1 (Activation)    (None, 20)                0         \n",
      "_________________________________________________________________\n",
      "dense_2 (Dense)              (None, 5)                 105       \n",
      "_________________________________________________________________\n",
      "activation_2 (Activation)    (None, 5)                 0         \n",
      "=================================================================\n",
      "Total params: 5,323\n",
      "Trainable params: 5,297\n",
      "Non-trainable params: 26\n",
      "_________________________________________________________________\n",
      "Train on 33008 samples, validate on 4126 samples\n",
      "Epoch 1/40\n",
      "\n",
      "Epoch 00001: val_loss improved from inf to 1.04069, saving model to ./models/my_autopilot_big.hdf5\n",
      " - 25s - loss: 1.3588 - acc: 0.4212 - val_loss: 1.0407 - val_acc: 0.5880\n",
      "Epoch 2/40\n",
      "\n",
      "Epoch 00002: val_loss did not improve\n",
      " - 24s - loss: 0.9147 - acc: 0.6279 - val_loss: 1.2576 - val_acc: 0.4818\n",
      "Epoch 3/40\n",
      "\n",
      "Epoch 00003: val_loss improved from 1.04069 to 1.02058, saving model to ./models/my_autopilot_big.hdf5\n",
      " - 24s - loss: 0.7850 - acc: 0.6875 - val_loss: 1.0206 - val_acc: 0.6241\n",
      "Epoch 4/40\n",
      "\n",
      "Epoch 00004: val_loss improved from 1.02058 to 0.81220, saving model to ./models/my_autopilot_big.hdf5\n",
      " - 24s - loss: 0.6846 - acc: 0.7352 - val_loss: 0.8122 - val_acc: 0.7101\n",
      "Epoch 5/40\n",
      "\n",
      "Epoch 00005: val_loss did not improve\n",
      " - 24s - loss: 0.6196 - acc: 0.7619 - val_loss: 0.8248 - val_acc: 0.7203\n",
      "Epoch 6/40\n",
      "\n",
      "Epoch 00006: val_loss improved from 0.81220 to 0.54951, saving model to ./models/my_autopilot_big.hdf5\n",
      " - 24s - loss: 0.5656 - acc: 0.7849 - val_loss: 0.5495 - val_acc: 0.7976\n",
      "Epoch 7/40\n",
      "\n",
      "Epoch 00007: val_loss improved from 0.54951 to 0.49734, saving model to ./models/my_autopilot_big.hdf5\n",
      " - 24s - loss: 0.5406 - acc: 0.7903 - val_loss: 0.4973 - val_acc: 0.8100\n",
      "Epoch 8/40\n",
      "\n",
      "Epoch 00008: val_loss improved from 0.49734 to 0.43612, saving model to ./models/my_autopilot_big.hdf5\n",
      " - 24s - loss: 0.5007 - acc: 0.8103 - val_loss: 0.4361 - val_acc: 0.8376\n",
      "Epoch 9/40\n",
      "\n",
      "Epoch 00009: val_loss did not improve\n",
      " - 24s - loss: 0.4869 - acc: 0.8159 - val_loss: 0.4510 - val_acc: 0.8299\n",
      "Epoch 10/40\n",
      "\n",
      "Epoch 00010: val_loss improved from 0.43612 to 0.41403, saving model to ./models/my_autopilot_big.hdf5\n",
      " - 24s - loss: 0.4739 - acc: 0.8209 - val_loss: 0.4140 - val_acc: 0.8420\n",
      "Epoch 11/40\n",
      "\n",
      "Epoch 00011: val_loss did not improve\n",
      " - 24s - loss: 0.4567 - acc: 0.8274 - val_loss: 0.4314 - val_acc: 0.8437\n",
      "Epoch 12/40\n",
      "\n",
      "Epoch 00012: val_loss did not improve\n",
      " - 24s - loss: 0.4488 - acc: 0.8284 - val_loss: 0.4171 - val_acc: 0.8429\n"
     ]
    },
    {
     "data": {
      "text/plain": [
       "<keras.callbacks.History at 0x7effc0265ba8>"
      ]
     },
     "execution_count": 5,
     "metadata": {},
     "output_type": "execute_result"
    }
   ],
   "source": [
    "# Create the model\n",
    "\n",
    "dropout_value = 0.1\n",
    "input_shape = (70, 250, 3)\n",
    "\n",
    "img_in = Input(shape=input_shape, name='img_in')\n",
    "x = img_in\n",
    "\n",
    "x = Convolution2D(5, 3, 3, activation='relu', border_mode='same')(x)\n",
    "x = MaxPooling2D(pool_size=(2, 2), strides=(2,2))(x)\n",
    "x = Dropout(dropout_value)(x)\n",
    "x = BatchNormalization()(x)\n",
    "\n",
    "x = Convolution2D(2, 3, 3, activation='relu', border_mode='same')(x)\n",
    "x = MaxPooling2D(pool_size=(2, 2), strides=(2,2))(x)\n",
    "x = Dropout(dropout_value)(x)\n",
    "x = BatchNormalization()(x)\n",
    "\n",
    "x = Convolution2D(2, 3, 3, activation='relu', border_mode='same')(x)\n",
    "x = MaxPooling2D(pool_size=(2, 2), strides=(2,2))(x)\n",
    "x = Dropout(dropout_value)(x)\n",
    "x = BatchNormalization()(x)\n",
    "\n",
    "x = Convolution2D(4, 3, 3, activation='relu', border_mode='same')(x)\n",
    "x = MaxPooling2D(pool_size=(2, 2), strides=(2,2))(x)\n",
    "x = Dropout(dropout_value)(x)\n",
    "x = BatchNormalization()(x)\n",
    "\n",
    "flat = Flatten()(x)\n",
    "\n",
    "x = Dense(20)(flat)\n",
    "x = Activation('relu')(x)\n",
    "\n",
    "x = Dense(5)(x)\n",
    "angle_out = Activation('softmax')(x)\n",
    "\n",
    "adam = Adam()\n",
    "model = Model(input=[img_in], output=[angle_out])\n",
    "model.compile(optimizer=adam, loss='categorical_crossentropy', metrics=['accuracy'])\n",
    "\n",
    "model.summary()\n",
    "\n",
    "#Save the model after each epoch if the validation loss improved.\n",
    "save_best = callbacks.ModelCheckpoint(model_path,\n",
    "                                        monitor='val_loss',\n",
    "                                        verbose=1,\n",
    "                                        save_best_only=True,\n",
    "                                        mode='min')\n",
    "#stop training if the validation loss doesn't improve for 5 consecutive epochs.\n",
    "early_stop = callbacks.EarlyStopping(monitor='val_loss',\n",
    "                                        min_delta=0,\n",
    "                                        patience=2,\n",
    "                                        verbose=0,\n",
    "                                        mode='auto')\n",
    "callbacks_list = [save_best, early_stop]\n",
    "\n",
    "\n",
    "model.fit([train_X], train_Y,\n",
    "            batch_size=100,\n",
    "            nb_epoch=40,\n",
    "            validation_data=([val_X], val_Y),\n",
    "            callbacks=callbacks_list,\n",
    "            verbose=2)"
   ]
  }
 ],
 "metadata": {
  "kernelspec": {
   "display_name": "ironcar",
   "language": "python",
   "name": "ironcar"
  },
  "language_info": {
   "codemirror_mode": {
    "name": "ipython",
    "version": 3
   },
   "file_extension": ".py",
   "mimetype": "text/x-python",
   "name": "python",
   "nbconvert_exporter": "python",
   "pygments_lexer": "ipython3",
   "version": "3.5.4"
  }
 },
 "nbformat": 4,
 "nbformat_minor": 2
}
